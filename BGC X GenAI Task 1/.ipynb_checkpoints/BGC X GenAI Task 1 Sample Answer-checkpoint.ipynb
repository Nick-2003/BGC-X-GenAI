{
 "cells": [
  {
   "cell_type": "markdown",
   "id": "8d52f33e-079f-4ce9-a76d-3eb24659997f",
   "metadata": {},
   "source": [
    "## BGC X GenAI Task 1 Sample Answer"
   ]
  },
  {
   "cell_type": "code",
   "execution_count": 1,
   "id": "b17e1b10-3eaf-4a41-80f9-b35d487ca6f4",
   "metadata": {},
   "outputs": [
    {
     "name": "stderr",
     "output_type": "stream",
     "text": [
      "/Users/student/anaconda3/lib/python3.11/site-packages/pandas/core/arrays/masked.py:60: UserWarning: Pandas requires version '1.3.6' or newer of 'bottleneck' (version '1.3.5' currently installed).\n",
      "  from pandas.core import (\n"
     ]
    }
   ],
   "source": [
    "import pandas as pd"
   ]
  },
  {
   "cell_type": "code",
   "execution_count": 2,
   "id": "904aac9f-389e-4131-bdea-dcef940b8f48",
   "metadata": {},
   "outputs": [],
   "source": [
    "# Load the data from the Excel spreadsheet\n",
    "# file_path = 'BGC_X_GenAI_Task_1.xlsx'\n",
    "# df = pd.read_excel(file_path)\n",
    "df = pd.read_csv('BGC_X_GenAI_Task_1.csv', encoding='utf-8-sig', sep='\\s*,\\s*', engine='python')"
   ]
  },
  {
   "cell_type": "code",
   "execution_count": 3,
   "id": "5ee3cc9f-33f4-4b8e-8646-f614b29184f6",
   "metadata": {},
   "outputs": [],
   "source": [
    "# Calculate year-over-year growth rates for Total Revenue and Net Income\n",
    "df['Revenue Growth (%)'] = df.groupby('Company')['Total Revenue'].pct_change() * 100\n",
    "df['Net Income Growth (%)'] = df.groupby('Company')['Net Income'].pct_change() * 100"
   ]
  },
  {
   "cell_type": "code",
   "execution_count": 4,
   "id": "1f1d846a-6853-485c-8400-31254f596916",
   "metadata": {},
   "outputs": [],
   "source": [
    "# Fill NA values that result from pct_change calculations with 0 or an appropriate value\n",
    "df.fillna(0, inplace=True)"
   ]
  },
  {
   "cell_type": "code",
   "execution_count": 5,
   "id": "6ae15640-1ea7-44de-b43d-006dd27f876f",
   "metadata": {},
   "outputs": [
    {
     "name": "stdout",
     "output_type": "stream",
     "text": [
      "      Company    Year  Total Revenue  Net Income  Total Assets  \\\n",
      "0   Microsoft  2021.0       168088.0     61271.0      333779.0   \n",
      "1   Microsoft  2022.0       198270.0     72738.0      364840.0   \n",
      "2   Microsoft  2023.0       211915.0     72361.0      411976.0   \n",
      "3       Tesla  2021.0        53823.0      5644.0       62131.0   \n",
      "4       Tesla  2022.0        81462.0     12587.0       82338.0   \n",
      "5       Tesla  2023.0        96773.0     14974.0      106618.0   \n",
      "6       Apple  2021.0       365817.0     94680.0      351002.0   \n",
      "7       Apple  2022.0       394328.0     99803.0      352755.0   \n",
      "8       Apple  2023.0       383285.0     96995.0      352583.0   \n",
      "9           0     0.0            0.0         0.0           0.0   \n",
      "10          0     0.0            0.0         0.0           0.0   \n",
      "11          0     0.0            0.0         0.0           0.0   \n",
      "\n",
      "    Total Liabilities  Cash Flow from Operating Activities  \\\n",
      "0            191791.0                              76740.0   \n",
      "1            198298.0                              89035.0   \n",
      "2            205753.0                              87582.0   \n",
      "3             30548.0                               5644.0   \n",
      "4             36440.0                              12587.0   \n",
      "5             43009.0                              14974.0   \n",
      "6            287912.0                             104038.0   \n",
      "7            302083.0                             122151.0   \n",
      "8            290437.0                             110543.0   \n",
      "9                 0.0                                  0.0   \n",
      "10                0.0                                  0.0   \n",
      "11                0.0                                  0.0   \n",
      "\n",
      "    Revenue Growth (%)  Net Income Growth (%)  \n",
      "0             0.000000               0.000000  \n",
      "1            17.956071              18.715216  \n",
      "2             6.882030              -0.518299  \n",
      "3             0.000000               0.000000  \n",
      "4            51.351653             123.015592  \n",
      "5            18.795267              18.964010  \n",
      "6             0.000000               0.000000  \n",
      "7             7.793788               5.410858  \n",
      "8            -2.800461              -2.813543  \n",
      "9             0.000000               0.000000  \n",
      "10            0.000000               0.000000  \n",
      "11            0.000000               0.000000  \n"
     ]
    }
   ],
   "source": [
    "# Display the dataframe to verify the calculations\n",
    "print(df)"
   ]
  },
  {
   "cell_type": "code",
   "execution_count": 6,
   "id": "7703f346-ec78-47d8-8427-36e23d08b868",
   "metadata": {},
   "outputs": [
    {
     "name": "stdout",
     "output_type": "stream",
     "text": [
      "\n",
      "Year-over-Year Average Growth Rates (%):\n",
      "     Company  Revenue Growth (%)  Net Income Growth (%)\n",
      "0          0            0.000000               0.000000\n",
      "1      Apple            1.664442               0.865772\n",
      "2  Microsoft            8.279367               6.065639\n",
      "3      Tesla           23.382306              47.326534\n"
     ]
    }
   ],
   "source": [
    "# Optionally, you could summarize these findings for each company\n",
    "summary = df.groupby('Company').agg({\n",
    "    'Revenue Growth (%)': 'mean',\n",
    "    'Net Income Growth (%)': 'mean'\n",
    "}).reset_index()\n",
    "\n",
    "print(\"\\nYear-over-Year Average Growth Rates (%):\")\n",
    "print(summary)"
   ]
  },
  {
   "cell_type": "code",
   "execution_count": null,
   "id": "b68b6ced-80b1-4349-8cc1-2c6e58f4fa98",
   "metadata": {},
   "outputs": [],
   "source": []
  }
 ],
 "metadata": {
  "kernelspec": {
   "display_name": "Python [conda env:base] *",
   "language": "python",
   "name": "conda-base-py"
  },
  "language_info": {
   "codemirror_mode": {
    "name": "ipython",
    "version": 3
   },
   "file_extension": ".py",
   "mimetype": "text/x-python",
   "name": "python",
   "nbconvert_exporter": "python",
   "pygments_lexer": "ipython3",
   "version": "3.11.9"
  }
 },
 "nbformat": 4,
 "nbformat_minor": 5
}
