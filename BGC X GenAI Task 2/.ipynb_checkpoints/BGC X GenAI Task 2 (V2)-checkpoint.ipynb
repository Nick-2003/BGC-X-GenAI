{
 "cells": [
  {
   "cell_type": "markdown",
   "id": "62682d4d-66f2-4322-a760-81efd453e2f9",
   "metadata": {},
   "source": [
    "## BGC X GenAI Task 2"
   ]
  },
  {
   "cell_type": "code",
   "execution_count": 1,
   "id": "3ccee96b-8b6d-4459-bdb7-06e950b04190",
   "metadata": {},
   "outputs": [
    {
     "name": "stderr",
     "output_type": "stream",
     "text": [
      "/Users/student/anaconda3/lib/python3.11/site-packages/pandas/core/arrays/masked.py:60: UserWarning: Pandas requires version '1.3.6' or newer of 'bottleneck' (version '1.3.5' currently installed).\n",
      "  from pandas.core import (\n"
     ]
    }
   ],
   "source": [
    "import pandas as pd\n",
    "import matplotlib.pyplot as plt\n",
    "import numpy as np"
   ]
  },
  {
   "cell_type": "markdown",
   "id": "038a8e52-7c50-4396-b847-84be2750537a",
   "metadata": {},
   "source": [
    "## Dataset setup \n",
    "- Growth columns created to analyse year-over-year changes in financial metrics.\n",
    "- Profit margin as measure of profitability of business.\n",
    "    - Profit margin = $\\frac{\\text{Net Income}}{\\text{Total Revenue}}$\n",
    "- Return on assets as measure of business asset utilisation.\n",
    "    - Return on assets = $\\frac{\\text{Net Income}}{\\text{Total Assets}}$\n",
    "- Operating cash flow ratio as measure of operational efficiency. \n",
    "    - Operating cash flow ratio = $\\frac{\\text{Operating Cash Flow}}{\\text{Total Revenue}}$"
   ]
  },
  {
   "cell_type": "code",
   "execution_count": 2,
   "id": "d20cdfdb-4538-459b-864f-dd6130d9b3cc",
   "metadata": {},
   "outputs": [
    {
     "data": {
      "text/html": [
       "<div>\n",
       "<style scoped>\n",
       "    .dataframe tbody tr th:only-of-type {\n",
       "        vertical-align: middle;\n",
       "    }\n",
       "\n",
       "    .dataframe tbody tr th {\n",
       "        vertical-align: top;\n",
       "    }\n",
       "\n",
       "    .dataframe thead th {\n",
       "        text-align: right;\n",
       "    }\n",
       "</style>\n",
       "<table border=\"1\" class=\"dataframe\">\n",
       "  <thead>\n",
       "    <tr style=\"text-align: right;\">\n",
       "      <th></th>\n",
       "      <th>Company</th>\n",
       "      <th>Year</th>\n",
       "      <th>Total Revenue</th>\n",
       "      <th>Net Income</th>\n",
       "      <th>Total Assets</th>\n",
       "      <th>Total Liabilities</th>\n",
       "      <th>Cash Flow from Operating Activities</th>\n",
       "      <th>Revenue Growth (%)</th>\n",
       "      <th>Net Income Growth (%)</th>\n",
       "      <th>Asset Growth (%)</th>\n",
       "      <th>Liability Growth (%)</th>\n",
       "      <th>Cash Flow Growth (%)</th>\n",
       "      <th>Profit Margin</th>\n",
       "      <th>Return On Assets</th>\n",
       "      <th>Operating Cash Flow Ratio</th>\n",
       "    </tr>\n",
       "  </thead>\n",
       "  <tbody>\n",
       "    <tr>\n",
       "      <th>0</th>\n",
       "      <td>Microsoft</td>\n",
       "      <td>2021.0</td>\n",
       "      <td>168088.0</td>\n",
       "      <td>61271.0</td>\n",
       "      <td>333779.0</td>\n",
       "      <td>191791.0</td>\n",
       "      <td>76740.0</td>\n",
       "      <td>NaN</td>\n",
       "      <td>NaN</td>\n",
       "      <td>NaN</td>\n",
       "      <td>NaN</td>\n",
       "      <td>NaN</td>\n",
       "      <td>0.364517</td>\n",
       "      <td>0.183568</td>\n",
       "      <td>0.456547</td>\n",
       "    </tr>\n",
       "    <tr>\n",
       "      <th>1</th>\n",
       "      <td>Microsoft</td>\n",
       "      <td>2022.0</td>\n",
       "      <td>198270.0</td>\n",
       "      <td>72738.0</td>\n",
       "      <td>364840.0</td>\n",
       "      <td>198298.0</td>\n",
       "      <td>89035.0</td>\n",
       "      <td>17.956071</td>\n",
       "      <td>18.715216</td>\n",
       "      <td>9.305858</td>\n",
       "      <td>3.392756</td>\n",
       "      <td>16.021631</td>\n",
       "      <td>0.366863</td>\n",
       "      <td>0.199370</td>\n",
       "      <td>0.449059</td>\n",
       "    </tr>\n",
       "    <tr>\n",
       "      <th>2</th>\n",
       "      <td>Microsoft</td>\n",
       "      <td>2023.0</td>\n",
       "      <td>211915.0</td>\n",
       "      <td>72361.0</td>\n",
       "      <td>411976.0</td>\n",
       "      <td>205753.0</td>\n",
       "      <td>87582.0</td>\n",
       "      <td>6.882030</td>\n",
       "      <td>-0.518299</td>\n",
       "      <td>12.919636</td>\n",
       "      <td>3.759493</td>\n",
       "      <td>-1.631942</td>\n",
       "      <td>0.341462</td>\n",
       "      <td>0.175644</td>\n",
       "      <td>0.413288</td>\n",
       "    </tr>\n",
       "    <tr>\n",
       "      <th>3</th>\n",
       "      <td>Tesla</td>\n",
       "      <td>2021.0</td>\n",
       "      <td>53823.0</td>\n",
       "      <td>5644.0</td>\n",
       "      <td>62131.0</td>\n",
       "      <td>30548.0</td>\n",
       "      <td>5644.0</td>\n",
       "      <td>NaN</td>\n",
       "      <td>NaN</td>\n",
       "      <td>NaN</td>\n",
       "      <td>NaN</td>\n",
       "      <td>NaN</td>\n",
       "      <td>0.104862</td>\n",
       "      <td>0.090840</td>\n",
       "      <td>0.104862</td>\n",
       "    </tr>\n",
       "    <tr>\n",
       "      <th>4</th>\n",
       "      <td>Tesla</td>\n",
       "      <td>2022.0</td>\n",
       "      <td>81462.0</td>\n",
       "      <td>12587.0</td>\n",
       "      <td>82338.0</td>\n",
       "      <td>36440.0</td>\n",
       "      <td>12587.0</td>\n",
       "      <td>51.351653</td>\n",
       "      <td>123.015592</td>\n",
       "      <td>32.523217</td>\n",
       "      <td>19.287678</td>\n",
       "      <td>123.015592</td>\n",
       "      <td>0.154514</td>\n",
       "      <td>0.152870</td>\n",
       "      <td>0.154514</td>\n",
       "    </tr>\n",
       "    <tr>\n",
       "      <th>5</th>\n",
       "      <td>Tesla</td>\n",
       "      <td>2023.0</td>\n",
       "      <td>96773.0</td>\n",
       "      <td>14974.0</td>\n",
       "      <td>106618.0</td>\n",
       "      <td>43009.0</td>\n",
       "      <td>14974.0</td>\n",
       "      <td>18.795267</td>\n",
       "      <td>18.964010</td>\n",
       "      <td>29.488207</td>\n",
       "      <td>18.026894</td>\n",
       "      <td>18.964010</td>\n",
       "      <td>0.154733</td>\n",
       "      <td>0.140445</td>\n",
       "      <td>0.154733</td>\n",
       "    </tr>\n",
       "    <tr>\n",
       "      <th>6</th>\n",
       "      <td>Apple</td>\n",
       "      <td>2021.0</td>\n",
       "      <td>365817.0</td>\n",
       "      <td>94680.0</td>\n",
       "      <td>351002.0</td>\n",
       "      <td>287912.0</td>\n",
       "      <td>104038.0</td>\n",
       "      <td>NaN</td>\n",
       "      <td>NaN</td>\n",
       "      <td>NaN</td>\n",
       "      <td>NaN</td>\n",
       "      <td>NaN</td>\n",
       "      <td>0.258818</td>\n",
       "      <td>0.269742</td>\n",
       "      <td>0.284399</td>\n",
       "    </tr>\n",
       "    <tr>\n",
       "      <th>7</th>\n",
       "      <td>Apple</td>\n",
       "      <td>2022.0</td>\n",
       "      <td>394328.0</td>\n",
       "      <td>99803.0</td>\n",
       "      <td>352755.0</td>\n",
       "      <td>302083.0</td>\n",
       "      <td>122151.0</td>\n",
       "      <td>7.793788</td>\n",
       "      <td>5.410858</td>\n",
       "      <td>0.499427</td>\n",
       "      <td>4.921990</td>\n",
       "      <td>17.409985</td>\n",
       "      <td>0.253096</td>\n",
       "      <td>0.282924</td>\n",
       "      <td>0.309770</td>\n",
       "    </tr>\n",
       "    <tr>\n",
       "      <th>8</th>\n",
       "      <td>Apple</td>\n",
       "      <td>2023.0</td>\n",
       "      <td>383285.0</td>\n",
       "      <td>96995.0</td>\n",
       "      <td>352583.0</td>\n",
       "      <td>290437.0</td>\n",
       "      <td>110543.0</td>\n",
       "      <td>-2.800461</td>\n",
       "      <td>-2.813543</td>\n",
       "      <td>-0.048759</td>\n",
       "      <td>-3.855232</td>\n",
       "      <td>-9.502992</td>\n",
       "      <td>0.253062</td>\n",
       "      <td>0.275098</td>\n",
       "      <td>0.288409</td>\n",
       "    </tr>\n",
       "  </tbody>\n",
       "</table>\n",
       "</div>"
      ],
      "text/plain": [
       "     Company    Year  Total Revenue  Net Income  Total Assets  \\\n",
       "0  Microsoft  2021.0       168088.0     61271.0      333779.0   \n",
       "1  Microsoft  2022.0       198270.0     72738.0      364840.0   \n",
       "2  Microsoft  2023.0       211915.0     72361.0      411976.0   \n",
       "3      Tesla  2021.0        53823.0      5644.0       62131.0   \n",
       "4      Tesla  2022.0        81462.0     12587.0       82338.0   \n",
       "5      Tesla  2023.0        96773.0     14974.0      106618.0   \n",
       "6      Apple  2021.0       365817.0     94680.0      351002.0   \n",
       "7      Apple  2022.0       394328.0     99803.0      352755.0   \n",
       "8      Apple  2023.0       383285.0     96995.0      352583.0   \n",
       "\n",
       "   Total Liabilities  Cash Flow from Operating Activities  Revenue Growth (%)  \\\n",
       "0           191791.0                              76740.0                 NaN   \n",
       "1           198298.0                              89035.0           17.956071   \n",
       "2           205753.0                              87582.0            6.882030   \n",
       "3            30548.0                               5644.0                 NaN   \n",
       "4            36440.0                              12587.0           51.351653   \n",
       "5            43009.0                              14974.0           18.795267   \n",
       "6           287912.0                             104038.0                 NaN   \n",
       "7           302083.0                             122151.0            7.793788   \n",
       "8           290437.0                             110543.0           -2.800461   \n",
       "\n",
       "   Net Income Growth (%)  Asset Growth (%)  Liability Growth (%)  \\\n",
       "0                    NaN               NaN                   NaN   \n",
       "1              18.715216          9.305858              3.392756   \n",
       "2              -0.518299         12.919636              3.759493   \n",
       "3                    NaN               NaN                   NaN   \n",
       "4             123.015592         32.523217             19.287678   \n",
       "5              18.964010         29.488207             18.026894   \n",
       "6                    NaN               NaN                   NaN   \n",
       "7               5.410858          0.499427              4.921990   \n",
       "8              -2.813543         -0.048759             -3.855232   \n",
       "\n",
       "   Cash Flow Growth (%)  Profit Margin  Return On Assets  \\\n",
       "0                   NaN       0.364517          0.183568   \n",
       "1             16.021631       0.366863          0.199370   \n",
       "2             -1.631942       0.341462          0.175644   \n",
       "3                   NaN       0.104862          0.090840   \n",
       "4            123.015592       0.154514          0.152870   \n",
       "5             18.964010       0.154733          0.140445   \n",
       "6                   NaN       0.258818          0.269742   \n",
       "7             17.409985       0.253096          0.282924   \n",
       "8             -9.502992       0.253062          0.275098   \n",
       "\n",
       "   Operating Cash Flow Ratio  \n",
       "0                   0.456547  \n",
       "1                   0.449059  \n",
       "2                   0.413288  \n",
       "3                   0.104862  \n",
       "4                   0.154514  \n",
       "5                   0.154733  \n",
       "6                   0.284399  \n",
       "7                   0.309770  \n",
       "8                   0.288409  "
      ]
     },
     "metadata": {},
     "output_type": "display_data"
    }
   ],
   "source": [
    "df = pd.read_csv('BGC_X_GenAI_Task_1.csv', encoding='utf-8-sig', sep='\\s*,\\s*', engine='python')\n",
    "df = df[df['Company'].notna()] # https://stackoverflow.com/questions/13413590/how-to-drop-rows-of-pandas-dataframe-whose-value-in-a-certain-column-is-nan\n",
    "\n",
    "df['Revenue Growth (%)'] = df.groupby(['Company'])['Total Revenue'].pct_change() * 100\n",
    "df['Net Income Growth (%)'] = df.groupby(['Company'])['Net Income'].pct_change() * 100\n",
    "df['Asset Growth (%)'] = df.groupby(['Company'])['Total Assets'].pct_change() * 100\n",
    "df['Liability Growth (%)'] = df.groupby(['Company'])['Total Liabilities'].pct_change() * 100\n",
    "df['Cash Flow Growth (%)'] = df.groupby(['Company'])['Cash Flow from Operating Activities'].pct_change() * 100\n",
    "\n",
    "df['Profit Margin'] = df['Net Income'] / df['Total Revenue']\n",
    "df['Return On Assets'] = df['Net Income'] / df['Total Assets']\n",
    "df['Operating Cash Flow Ratio'] = df['Cash Flow from Operating Activities'] / df['Total Revenue']\n",
    "display(df)"
   ]
  },
  {
   "cell_type": "markdown",
   "id": "145f8f91-ceff-4603-a6c0-51c0521b0a51",
   "metadata": {},
   "source": [
    "## Simple chatbot example (Provided by Task 2) "
   ]
  },
  {
   "cell_type": "code",
   "execution_count": 3,
   "id": "0817b5d1-f836-4b79-84f5-d91da8528d68",
   "metadata": {},
   "outputs": [],
   "source": [
    "def simple_chatbot(user_query):\n",
    "   if user_query == \"What is the total revenue?\":\n",
    "       return \"The total revenue is [amount].\"\n",
    "   elif user_query == \"How has net income changed over the last year?\":\n",
    "       return \"The net income has [increased/decreased] by [amount] over the last year.\"\n",
    "   # Add more conditions for other predefined queries\n",
    "   else:\n",
    "       return \"Sorry, I can only provide information on predefined queries.\""
   ]
  },
  {
   "cell_type": "markdown",
   "id": "24da82da-1602-4ebf-87d3-3e2d07cc0a8d",
   "metadata": {},
   "source": [
    "## Basic chatbot with limited selections (Adapted further from Task 2)\n",
    "- Chatbot has 2 major queries it can respond to:\n",
    "    - `1`: Insert company, year and property to find the corresponding value.\n",
    "    - `2`: Find the greatest/least value within each company or year.\n",
    "    - `q`: Exit the chatbot.\n",
    "- The chatbot will consider any other input as invalid responses.\n",
    "- It can only take very limited forms of input, which heavily restricts the types of queries it can answer."
   ]
  },
  {
   "cell_type": "code",
   "execution_count": 5,
   "id": "4c2b217d-6bb1-4344-bf49-fb6602cbb403",
   "metadata": {},
   "outputs": [],
   "source": [
    "def companyinput():\n",
    "    print(\"List of companies:\")\n",
    "    for x in df.Company.unique():\n",
    "        print(\"* \" + str(x))\n",
    "    c1 = input(\"From above, input company of interest: \")\n",
    "    while c1 not in df.Company.unique(): \n",
    "        c1 = input(\"Invalid input, try again:\")\n",
    "    return c1\n",
    "\n",
    "def yearinput(): \n",
    "    print(\"List of years:\")\n",
    "    yearlist = [str(x) for x in df.Year.unique()]\n",
    "    for x in yearlist:\n",
    "        print(\"* \" + str(x))\n",
    "    y1 = input(\"From above, input year of interest: \")\n",
    "    while y1 not in yearlist: \n",
    "        y1 = input(\"Invalid input, try again:\")\n",
    "    return y1\n",
    "\n",
    "def propertyinput(): \n",
    "    print(\"List of properties:\")\n",
    "    categorical = [\"Company\", \"Year\"]\n",
    "    growths = [\"Revenue Growth (%)\", \"Net Income Growth (%)\", \"Asset Growth (%)\", \"Liability Growth (%)\", \"Cash Flow Growth (%)\"]\n",
    "    propertylist = [x for x in list(df.columns) if x not in categorical] \n",
    "    for x in propertylist: \n",
    "        print(\"* \" + str(x))\n",
    "    p1 = input(\"From above, input property of interest: \")\n",
    "    while p1 not in propertylist: \n",
    "        p1 = input(\"Invalid input, try again:\")\n",
    "    return p1 "
   ]
  },
  {
   "cell_type": "code",
   "execution_count": 6,
   "id": "b2b38f43-83d9-4aa8-aec0-54f6e8eb007b",
   "metadata": {},
   "outputs": [],
   "source": [
    "def chatbot_v2(): \n",
    "    option = input('Enter option: \\n1: Value of property given year and company \\n2: Greatest/least value of property given year/company \\nq: Quit \\n')\n",
    "    while option not in [\"1\", \"2\", \"q\"]: \n",
    "        option = input(\"Invalid input, try again:\")\n",
    "    \n",
    "    if option == \"1\": \n",
    "        c1 = companyinput()\n",
    "        y1 = yearinput()\n",
    "        p1 = propertyinput()\n",
    "\n",
    "        try: \n",
    "            interestvals = df.loc[(df[\"Company\"] == c1) & (df[\"Year\"] == float(y1))][p1].values\n",
    "            interestvals = interestvals[~np.isnan(interestvals)] \n",
    "            interestval = interestvals[0]\n",
    "            print(\"Value of \" + p1 + \" for \" + c1 + \" in \" + y1 + \": \" + str(interestval))\n",
    "        except IndexError: \n",
    "            print(\"Value of \" + p1 + \" for \" + c1 + \" in \" + y1 + \" is not available in the dataset.\")\n",
    "    \n",
    "    elif option == \"2\": \n",
    "        updown = input(\"Greatest or Least? \")\n",
    "        while updown not in [\"Greatest\", \"Least\"]: \n",
    "            updown = input(\"Invalid input, try again:\")\n",
    "\n",
    "        p1 = propertyinput()\n",
    "\n",
    "        compyear = input(\"Company or Year? \")\n",
    "        while compyear not in [\"Company\", \"Year\"]: \n",
    "            compyear = input(\"Invalid input, try again:\")\n",
    "        if compyear == \"Company\": \n",
    "            cy2 = companyinput()\n",
    "            interestvals = df.loc[df[\"Company\"] == cy2][p1]\n",
    "            interestvals = interestvals[~np.isnan(interestvals)]\n",
    "            if updown == \"Greatest\": \n",
    "                interestval = max(interestvals)\n",
    "                print(\"Maximum value of \" + p1 + \" for all years in \" + cy2 + \": \" + str(interestval))\n",
    "            else: \n",
    "                interestval = min(interestvals)\n",
    "                print(\"Minimum value of \" + p1 + \" for all years in \" + cy2 + \": \" + str(interestval))\n",
    "        else: \n",
    "            cy2 = yearinput()\n",
    "            interestvals = df.loc[df[\"Year\"] == float(cy2)][p1].tolist()\n",
    "            # interestvals = interestvals[~np.isnan(interestvals)]\n",
    "            # print(interestvals)\n",
    "            if updown == \"Greatest\": \n",
    "                interestval = max(interestvals)\n",
    "                print(\"Maximum value of \" + p1 + \" for all companies in \" + cy2 + \": \" + str(interestval))\n",
    "            else: \n",
    "                interestval = min(interestvals)\n",
    "                print(\"Minimum value of \" + p1 + \" for all companies in \" + cy2 + \": \" + str(interestval))\n",
    "    \n",
    "    else: \n",
    "        print(\"Good day.\")"
   ]
  },
  {
   "cell_type": "code",
   "execution_count": 7,
   "id": "f29f2774-aec3-4fd6-b85c-a261f9f4bc91",
   "metadata": {},
   "outputs": [
    {
     "name": "stdin",
     "output_type": "stream",
     "text": [
      "Enter option: \n",
      "1: Value of property given year and company \n",
      "2: Greatest/least value of property given year/company \n",
      "q: Quit \n",
      " m\n",
      "Invalid input, try again: 1\n"
     ]
    },
    {
     "name": "stdout",
     "output_type": "stream",
     "text": [
      "List of companies:\n",
      "* Microsoft\n",
      "* Tesla\n",
      "* Apple\n"
     ]
    },
    {
     "name": "stdin",
     "output_type": "stream",
     "text": [
      "From above, input company of interest:  m\n",
      "Invalid input, try again: Microsoft\n"
     ]
    },
    {
     "name": "stdout",
     "output_type": "stream",
     "text": [
      "List of years:\n",
      "* 2021.0\n",
      "* 2022.0\n",
      "* 2023.0\n"
     ]
    },
    {
     "name": "stdin",
     "output_type": "stream",
     "text": [
      "From above, input year of interest:  2023.0\n"
     ]
    },
    {
     "name": "stdout",
     "output_type": "stream",
     "text": [
      "List of properties:\n",
      "* Total Revenue\n",
      "* Net Income\n",
      "* Total Assets\n",
      "* Total Liabilities\n",
      "* Cash Flow from Operating Activities\n",
      "* Revenue Growth (%)\n",
      "* Net Income Growth (%)\n",
      "* Asset Growth (%)\n",
      "* Liability Growth (%)\n",
      "* Cash Flow Growth (%)\n",
      "* Profit Margin\n",
      "* Return On Assets\n",
      "* Operating Cash Flow Ratio\n"
     ]
    },
    {
     "name": "stdin",
     "output_type": "stream",
     "text": [
      "From above, input property of interest:  Total Revenue\n"
     ]
    },
    {
     "name": "stdout",
     "output_type": "stream",
     "text": [
      "Value of Total Revenue for Microsoft in 2023.0: 211915.0\n"
     ]
    }
   ],
   "source": [
    "chatbot_v2() # Demonstrate invalid input for each, value of basic metrics"
   ]
  },
  {
   "cell_type": "code",
   "execution_count": 8,
   "id": "293c1cef-c23e-44f0-ac20-4848e0f1b34a",
   "metadata": {},
   "outputs": [
    {
     "name": "stdin",
     "output_type": "stream",
     "text": [
      "Enter option: \n",
      "1: Value of property given year and company \n",
      "2: Greatest/least value of property given year/company \n",
      "q: Quit \n",
      " 1\n"
     ]
    },
    {
     "name": "stdout",
     "output_type": "stream",
     "text": [
      "List of companies:\n",
      "* Microsoft\n",
      "* Tesla\n",
      "* Apple\n"
     ]
    },
    {
     "name": "stdin",
     "output_type": "stream",
     "text": [
      "From above, input company of interest:  Tesla\n"
     ]
    },
    {
     "name": "stdout",
     "output_type": "stream",
     "text": [
      "List of years:\n",
      "* 2021.0\n",
      "* 2022.0\n",
      "* 2023.0\n"
     ]
    },
    {
     "name": "stdin",
     "output_type": "stream",
     "text": [
      "From above, input year of interest:  2022.0\n"
     ]
    },
    {
     "name": "stdout",
     "output_type": "stream",
     "text": [
      "List of properties:\n",
      "* Total Revenue\n",
      "* Net Income\n",
      "* Total Assets\n",
      "* Total Liabilities\n",
      "* Cash Flow from Operating Activities\n",
      "* Revenue Growth (%)\n",
      "* Net Income Growth (%)\n",
      "* Asset Growth (%)\n",
      "* Liability Growth (%)\n",
      "* Cash Flow Growth (%)\n",
      "* Profit Margin\n",
      "* Return On Assets\n",
      "* Operating Cash Flow Ratio\n"
     ]
    },
    {
     "name": "stdin",
     "output_type": "stream",
     "text": [
      "From above, input property of interest:  Net Income Growth (%)\n"
     ]
    },
    {
     "name": "stdout",
     "output_type": "stream",
     "text": [
      "Value of Net Income Growth (%) for Tesla in 2022.0: 123.01559177888022\n"
     ]
    }
   ],
   "source": [
    "chatbot_v2() # Demonstrate value of growth metrics"
   ]
  },
  {
   "cell_type": "code",
   "execution_count": 9,
   "id": "ad61110f-a675-4ccf-bf83-6d29598e1386",
   "metadata": {},
   "outputs": [
    {
     "name": "stdin",
     "output_type": "stream",
     "text": [
      "Enter option: \n",
      "1: Value of property given year and company \n",
      "2: Greatest/least value of property given year/company \n",
      "q: Quit \n",
      " 1\n"
     ]
    },
    {
     "name": "stdout",
     "output_type": "stream",
     "text": [
      "List of companies:\n",
      "* Microsoft\n",
      "* Tesla\n",
      "* Apple\n"
     ]
    },
    {
     "name": "stdin",
     "output_type": "stream",
     "text": [
      "From above, input company of interest:  Apple\n"
     ]
    },
    {
     "name": "stdout",
     "output_type": "stream",
     "text": [
      "List of years:\n",
      "* 2021.0\n",
      "* 2022.0\n",
      "* 2023.0\n"
     ]
    },
    {
     "name": "stdin",
     "output_type": "stream",
     "text": [
      "From above, input year of interest:  2021.0\n"
     ]
    },
    {
     "name": "stdout",
     "output_type": "stream",
     "text": [
      "List of properties:\n",
      "* Total Revenue\n",
      "* Net Income\n",
      "* Total Assets\n",
      "* Total Liabilities\n",
      "* Cash Flow from Operating Activities\n",
      "* Revenue Growth (%)\n",
      "* Net Income Growth (%)\n",
      "* Asset Growth (%)\n",
      "* Liability Growth (%)\n",
      "* Cash Flow Growth (%)\n",
      "* Profit Margin\n",
      "* Return On Assets\n",
      "* Operating Cash Flow Ratio\n"
     ]
    },
    {
     "name": "stdin",
     "output_type": "stream",
     "text": [
      "From above, input property of interest:  Asset Growth (%)\n"
     ]
    },
    {
     "name": "stdout",
     "output_type": "stream",
     "text": [
      "Value of Asset Growth (%) for Apple in 2021.0 is not available in the dataset.\n"
     ]
    }
   ],
   "source": [
    "chatbot_v2() # Demonstrate value of growth metrics for 2021 (Lack of value)"
   ]
  },
  {
   "cell_type": "code",
   "execution_count": 10,
   "id": "2c809983-2d73-477b-9d59-2b16fe922619",
   "metadata": {},
   "outputs": [
    {
     "name": "stdin",
     "output_type": "stream",
     "text": [
      "Enter option: \n",
      "1: Value of property given year and company \n",
      "2: Greatest/least value of property given year/company \n",
      "q: Quit \n",
      " 1\n"
     ]
    },
    {
     "name": "stdout",
     "output_type": "stream",
     "text": [
      "List of companies:\n",
      "* Microsoft\n",
      "* Tesla\n",
      "* Apple\n"
     ]
    },
    {
     "name": "stdin",
     "output_type": "stream",
     "text": [
      "From above, input company of interest:  Tesla\n"
     ]
    },
    {
     "name": "stdout",
     "output_type": "stream",
     "text": [
      "List of years:\n",
      "* 2021.0\n",
      "* 2022.0\n",
      "* 2023.0\n"
     ]
    },
    {
     "name": "stdin",
     "output_type": "stream",
     "text": [
      "From above, input year of interest:  2021.0\n"
     ]
    },
    {
     "name": "stdout",
     "output_type": "stream",
     "text": [
      "List of properties:\n",
      "* Total Revenue\n",
      "* Net Income\n",
      "* Total Assets\n",
      "* Total Liabilities\n",
      "* Cash Flow from Operating Activities\n",
      "* Revenue Growth (%)\n",
      "* Net Income Growth (%)\n",
      "* Asset Growth (%)\n",
      "* Liability Growth (%)\n",
      "* Cash Flow Growth (%)\n",
      "* Profit Margin\n",
      "* Return On Assets\n",
      "* Operating Cash Flow Ratio\n"
     ]
    },
    {
     "name": "stdin",
     "output_type": "stream",
     "text": [
      "From above, input property of interest:  Profit Margin\n"
     ]
    },
    {
     "name": "stdout",
     "output_type": "stream",
     "text": [
      "Value of Profit Margin for Tesla in 2021.0: 0.10486223361759843\n"
     ]
    }
   ],
   "source": [
    "chatbot_v2() # Demonstrate value of ratio metrics"
   ]
  },
  {
   "cell_type": "code",
   "execution_count": 11,
   "id": "80132a7e-c0ea-4519-b552-675ace8b4e70",
   "metadata": {},
   "outputs": [
    {
     "name": "stdin",
     "output_type": "stream",
     "text": [
      "Enter option: \n",
      "1: Value of property given year and company \n",
      "2: Greatest/least value of property given year/company \n",
      "q: Quit \n",
      " 2\n",
      "Greatest or Least?  Greatest\n"
     ]
    },
    {
     "name": "stdout",
     "output_type": "stream",
     "text": [
      "List of properties:\n",
      "* Total Revenue\n",
      "* Net Income\n",
      "* Total Assets\n",
      "* Total Liabilities\n",
      "* Cash Flow from Operating Activities\n",
      "* Revenue Growth (%)\n",
      "* Net Income Growth (%)\n",
      "* Asset Growth (%)\n",
      "* Liability Growth (%)\n",
      "* Cash Flow Growth (%)\n",
      "* Profit Margin\n",
      "* Return On Assets\n",
      "* Operating Cash Flow Ratio\n"
     ]
    },
    {
     "name": "stdin",
     "output_type": "stream",
     "text": [
      "From above, input property of interest:  Cash Flow from Operating Activities\n",
      "Company or Year?  Year\n"
     ]
    },
    {
     "name": "stdout",
     "output_type": "stream",
     "text": [
      "List of years:\n",
      "* 2021.0\n",
      "* 2022.0\n",
      "* 2023.0\n"
     ]
    },
    {
     "name": "stdin",
     "output_type": "stream",
     "text": [
      "From above, input year of interest:  2021.0\n"
     ]
    },
    {
     "name": "stdout",
     "output_type": "stream",
     "text": [
      "Maximum value of Cash Flow from Operating Activities for all companies in 2021.0: 104038.0\n"
     ]
    }
   ],
   "source": [
    "chatbot_v2() # Demonstrate greatest value of basic metric given year"
   ]
  },
  {
   "cell_type": "code",
   "execution_count": 12,
   "id": "aa6adf2a-4d77-41e6-9799-4eea1595a0e2",
   "metadata": {},
   "outputs": [
    {
     "name": "stdin",
     "output_type": "stream",
     "text": [
      "Enter option: \n",
      "1: Value of property given year and company \n",
      "2: Greatest/least value of property given year/company \n",
      "q: Quit \n",
      " 2\n",
      "Greatest or Least?  Least\n"
     ]
    },
    {
     "name": "stdout",
     "output_type": "stream",
     "text": [
      "List of properties:\n",
      "* Total Revenue\n",
      "* Net Income\n",
      "* Total Assets\n",
      "* Total Liabilities\n",
      "* Cash Flow from Operating Activities\n",
      "* Revenue Growth (%)\n",
      "* Net Income Growth (%)\n",
      "* Asset Growth (%)\n",
      "* Liability Growth (%)\n",
      "* Cash Flow Growth (%)\n",
      "* Profit Margin\n",
      "* Return On Assets\n",
      "* Operating Cash Flow Ratio\n"
     ]
    },
    {
     "name": "stdin",
     "output_type": "stream",
     "text": [
      "From above, input property of interest:  Liability Growth (%)\n",
      "Company or Year?  Company\n"
     ]
    },
    {
     "name": "stdout",
     "output_type": "stream",
     "text": [
      "List of companies:\n",
      "* Microsoft\n",
      "* Tesla\n",
      "* Apple\n"
     ]
    },
    {
     "name": "stdin",
     "output_type": "stream",
     "text": [
      "From above, input company of interest:  Microsoft\n"
     ]
    },
    {
     "name": "stdout",
     "output_type": "stream",
     "text": [
      "Minimum value of Liability Growth (%) for all years in Microsoft: 3.3927556558962513\n"
     ]
    }
   ],
   "source": [
    "chatbot_v2() # Demonstrate least value of growth metric given company"
   ]
  },
  {
   "cell_type": "code",
   "execution_count": 13,
   "id": "7eea7ef9-7bcd-4845-bc45-a20e6463403f",
   "metadata": {},
   "outputs": [
    {
     "name": "stdin",
     "output_type": "stream",
     "text": [
      "Enter option: \n",
      "1: Value of property given year and company \n",
      "2: Greatest/least value of property given year/company \n",
      "q: Quit \n",
      " q\n"
     ]
    },
    {
     "name": "stdout",
     "output_type": "stream",
     "text": [
      "Good day.\n"
     ]
    }
   ],
   "source": [
    "chatbot_v2() # Quit"
   ]
  },
  {
   "cell_type": "markdown",
   "id": "43c06d94-9ebe-4418-b4a0-0a3cc5378f3f",
   "metadata": {},
   "source": [
    "## References \n",
    "- https://stackoverflow.com/questions/11620914/how-do-i-remove-nan-values-from-a-numpy-array"
   ]
  },
  {
   "cell_type": "code",
   "execution_count": null,
   "id": "41f898e1-fbd2-4f24-8e90-60979fd88dec",
   "metadata": {},
   "outputs": [],
   "source": []
  }
 ],
 "metadata": {
  "kernelspec": {
   "display_name": "Python [conda env:base] *",
   "language": "python",
   "name": "conda-base-py"
  },
  "language_info": {
   "codemirror_mode": {
    "name": "ipython",
    "version": 3
   },
   "file_extension": ".py",
   "mimetype": "text/x-python",
   "name": "python",
   "nbconvert_exporter": "python",
   "pygments_lexer": "ipython3",
   "version": "3.11.9"
  }
 },
 "nbformat": 4,
 "nbformat_minor": 5
}
